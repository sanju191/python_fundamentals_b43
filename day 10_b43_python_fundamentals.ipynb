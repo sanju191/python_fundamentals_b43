{
 "cells": [
  {
   "cell_type": "code",
   "execution_count": 1,
   "metadata": {},
   "outputs": [],
   "source": [
    "# introduction to python functions :-"
   ]
  },
  {
   "cell_type": "code",
   "execution_count": 17,
   "metadata": {},
   "outputs": [],
   "source": [
    "def greet():                                    # defining or declaring a function.\n",
    "    \"\"\" creating a function to greet\"\"\"         # doc strings ---> \"\"\"\"\"\" ---> used for commenting inside a function.\n",
    "    print('hello!')"
   ]
  },
  {
   "cell_type": "code",
   "execution_count": 18,
   "metadata": {},
   "outputs": [
    {
     "name": "stdout",
     "output_type": "stream",
     "text": [
      "hello!\n"
     ]
    }
   ],
   "source": [
    "greet()"
   ]
  },
  {
   "cell_type": "code",
   "execution_count": 22,
   "metadata": {},
   "outputs": [],
   "source": [
    "def greet(username):                     # parameter passing.\n",
    "    \"\"\"A function to greet the user\"\"\"  \n",
    "    print(f\"hello, {username}\")"
   ]
  },
  {
   "cell_type": "code",
   "execution_count": 25,
   "metadata": {},
   "outputs": [
    {
     "name": "stdout",
     "output_type": "stream",
     "text": [
      "hello, sanju\n"
     ]
    }
   ],
   "source": [
    "greet('sanju')                         # function call"
   ]
  },
  {
   "cell_type": "code",
   "execution_count": 26,
   "metadata": {},
   "outputs": [
    {
     "name": "stdout",
     "output_type": "stream",
     "text": [
      "hello, sarah\n"
     ]
    }
   ],
   "source": [
    "greet('sarah')                         # argument passing---> runtime argument passing."
   ]
  },
  {
   "cell_type": "code",
   "execution_count": null,
   "metadata": {},
   "outputs": [],
   "source": [
    "# types of arguments."
   ]
  },
  {
   "cell_type": "code",
   "execution_count": 37,
   "metadata": {},
   "outputs": [],
   "source": [
    "def describe_pet(animal_type,pet_name):\n",
    "    \"\"\"A function to obtain details of a pet\"\"\"\n",
    "    print(f\"i have a {animal_type}\")\n",
    "    print(f\"my {animal_type}'s name is {pet_name}\" )"
   ]
  },
  {
   "cell_type": "code",
   "execution_count": 39,
   "metadata": {},
   "outputs": [
    {
     "name": "stdout",
     "output_type": "stream",
     "text": [
      "i have a dog\n",
      "my dog's name is max\n"
     ]
    }
   ],
   "source": [
    "describe_pet('dog','max')"
   ]
  },
  {
   "cell_type": "code",
   "execution_count": 40,
   "metadata": {},
   "outputs": [],
   "source": [
    "# 1) positional arguments."
   ]
  },
  {
   "cell_type": "code",
   "execution_count": 41,
   "metadata": {},
   "outputs": [],
   "source": [
    "def describe_pet(pet_name,animal_type):\n",
    "    \"\"\"A function to obtain details of a pet\"\"\"\n",
    "    print(f\"i have a {animal_type}\")\n",
    "    print(f\"my {animal_type}'s name is {pet_name}\" )"
   ]
  },
  {
   "cell_type": "code",
   "execution_count": 43,
   "metadata": {},
   "outputs": [
    {
     "name": "stdout",
     "output_type": "stream",
     "text": [
      "i have a max\n",
      "my max's name is dog\n"
     ]
    }
   ],
   "source": [
    "describe_pet('dog','max')  # funct accepts args in the order of params defined."
   ]
  },
  {
   "cell_type": "code",
   "execution_count": 44,
   "metadata": {},
   "outputs": [],
   "source": [
    "# 2) keyword arguments."
   ]
  },
  {
   "cell_type": "code",
   "execution_count": 48,
   "metadata": {},
   "outputs": [],
   "source": [
    "def describe_pet(pet_name,animal_type):\n",
    "    \"\"\"A function to obtain details of a pet\"\"\"\n",
    "    print(f\"i have a {animal_type}\")\n",
    "    print(f\"my {animal_type}'s name is {pet_name}\" )"
   ]
  },
  {
   "cell_type": "code",
   "execution_count": 49,
   "metadata": {},
   "outputs": [
    {
     "name": "stdout",
     "output_type": "stream",
     "text": [
      "i have a dog\n",
      "my dog's name is max\n"
     ]
    }
   ],
   "source": [
    "describe_pet(animal_type = 'dog',pet_name = 'max')"
   ]
  },
  {
   "cell_type": "code",
   "execution_count": 50,
   "metadata": {},
   "outputs": [],
   "source": [
    "# 3) default arguments."
   ]
  },
  {
   "cell_type": "code",
   "execution_count": 51,
   "metadata": {},
   "outputs": [],
   "source": [
    "def describe_pet(pet_name,animal_type = 'dog'):\n",
    "    \"\"\"A function to obtain details of a pet\"\"\"\n",
    "    print(f\"i have a {animal_type}\")\n",
    "    print(f\"my {animal_type}'s name is {pet_name}\" )"
   ]
  },
  {
   "cell_type": "code",
   "execution_count": 52,
   "metadata": {},
   "outputs": [
    {
     "name": "stdout",
     "output_type": "stream",
     "text": [
      "i have a dog\n",
      "my dog's name is alex\n"
     ]
    }
   ],
   "source": [
    "describe_pet('alex')"
   ]
  },
  {
   "cell_type": "code",
   "execution_count": null,
   "metadata": {},
   "outputs": [],
   "source": []
  }
 ],
 "metadata": {
  "kernelspec": {
   "display_name": "Python 3",
   "language": "python",
   "name": "python3"
  },
  "language_info": {
   "codemirror_mode": {
    "name": "ipython",
    "version": 3
   },
   "file_extension": ".py",
   "mimetype": "text/x-python",
   "name": "python",
   "nbconvert_exporter": "python",
   "pygments_lexer": "ipython3",
   "version": "3.8.5"
  }
 },
 "nbformat": 4,
 "nbformat_minor": 4
}
