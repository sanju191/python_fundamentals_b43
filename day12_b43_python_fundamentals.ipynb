{
 "cells": [
  {
   "cell_type": "code",
   "execution_count": 1,
   "metadata": {},
   "outputs": [],
   "source": [
    "# introduction to python classes concept:-"
   ]
  },
  {
   "cell_type": "code",
   "execution_count": 2,
   "metadata": {},
   "outputs": [],
   "source": [
    "# req create a greet class with the below methods:-\n",
    "# userinput\n",
    "# displayuser\n",
    "# greet user"
   ]
  },
  {
   "cell_type": "code",
   "execution_count": 25,
   "metadata": {},
   "outputs": [],
   "source": [
    "class Greet:\n",
    "    \"\"\"creating a greet class and its methods \"\"\"\n",
    "    \n",
    "    def userinput(self,username,age):            # defining method. \n",
    "        self.username = username                 # same format # attributes\n",
    "        self.age = age    \n",
    "    \n",
    "    def displayuser(self):\n",
    "        print(self.username)\n",
    "        \n",
    "    def greetuser(self):\n",
    "        print(f\"hello, {self.username}\")\n",
    "        print(f\"your age is, {self.age}\")\n",
    "        "
   ]
  },
  {
   "cell_type": "code",
   "execution_count": 26,
   "metadata": {},
   "outputs": [],
   "source": [
    "t = Greet()              # object assignment to the class."
   ]
  },
  {
   "cell_type": "code",
   "execution_count": 27,
   "metadata": {},
   "outputs": [],
   "source": [
    "t.userinput(\"sanju\",18)  # accepting the input from the user."
   ]
  },
  {
   "cell_type": "code",
   "execution_count": 28,
   "metadata": {},
   "outputs": [
    {
     "name": "stdout",
     "output_type": "stream",
     "text": [
      "sanju\n"
     ]
    }
   ],
   "source": [
    "t.displayuser()"
   ]
  },
  {
   "cell_type": "code",
   "execution_count": 29,
   "metadata": {},
   "outputs": [
    {
     "name": "stdout",
     "output_type": "stream",
     "text": [
      "hello, sanju\n",
      "your age is, 18\n"
     ]
    }
   ],
   "source": [
    "t.greetuser()"
   ]
  },
  {
   "cell_type": "code",
   "execution_count": 30,
   "metadata": {},
   "outputs": [
    {
     "name": "stdout",
     "output_type": "stream",
     "text": [
      "suhitha\n",
      "hello, suhitha\n",
      "your age is, 19\n"
     ]
    }
   ],
   "source": [
    "xobj = Greet()\n",
    "xobj.userinput('suhitha',19)\n",
    "xobj.displayuser()\n",
    "xobj.greetuser()"
   ]
  },
  {
   "cell_type": "code",
   "execution_count": null,
   "metadata": {},
   "outputs": [],
   "source": []
  },
  {
   "cell_type": "code",
   "execution_count": null,
   "metadata": {},
   "outputs": [],
   "source": []
  }
 ],
 "metadata": {
  "kernelspec": {
   "display_name": "Python 3",
   "language": "python",
   "name": "python3"
  },
  "language_info": {
   "codemirror_mode": {
    "name": "ipython",
    "version": 3
   },
   "file_extension": ".py",
   "mimetype": "text/x-python",
   "name": "python",
   "nbconvert_exporter": "python",
   "pygments_lexer": "ipython3",
   "version": "3.8.5"
  }
 },
 "nbformat": 4,
 "nbformat_minor": 4
}
