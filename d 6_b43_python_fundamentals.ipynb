{
 "cells": [
  {
   "cell_type": "code",
   "execution_count": 3,
   "metadata": {},
   "outputs": [
    {
     "name": "stdout",
     "output_type": "stream",
     "text": [
      "['siva', 'mujeeb', 'rishika', 'priyanka', 'naveen', 'kiran']\n"
     ]
    }
   ],
   "source": [
    "students = ['siva', 'mujeeb', 'rishika', 'priyanka', 'naveen', 'kiran']\n",
    "print(students)"
   ]
  },
  {
   "cell_type": "code",
   "execution_count": 4,
   "metadata": {},
   "outputs": [],
   "source": [
    "# req : appreciating above students for regularity in their work submission."
   ]
  },
  {
   "cell_type": "code",
   "execution_count": 8,
   "metadata": {},
   "outputs": [
    {
     "name": "stdout",
     "output_type": "stream",
     "text": [
      "keep up the good work, siva\n"
     ]
    }
   ],
   "source": [
    "print(f\"keep up the good work, {students[0]}\")"
   ]
  },
  {
   "cell_type": "code",
   "execution_count": 9,
   "metadata": {},
   "outputs": [
    {
     "name": "stdout",
     "output_type": "stream",
     "text": [
      "keep up the good work, mujeeb\n"
     ]
    }
   ],
   "source": [
    "print(f\"keep up the good work, {students[1]}\")"
   ]
  },
  {
   "cell_type": "code",
   "execution_count": 10,
   "metadata": {},
   "outputs": [],
   "source": [
    "# now i need to appreciate everyone in the above list.\n",
    "# for loop"
   ]
  },
  {
   "cell_type": "code",
   "execution_count": 11,
   "metadata": {},
   "outputs": [
    {
     "name": "stdout",
     "output_type": "stream",
     "text": [
      "keep up the good work, siva\n",
      "keep up the good work, mujeeb\n",
      "keep up the good work, rishika\n",
      "keep up the good work, priyanka\n",
      "keep up the good work, naveen\n",
      "keep up the good work, kiran\n"
     ]
    }
   ],
   "source": [
    "for x in students:\n",
    "    print(f\"keep up the good work, {x}\")"
   ]
  },
  {
   "cell_type": "code",
   "execution_count": 12,
   "metadata": {},
   "outputs": [],
   "source": [
    "# writing in the loop."
   ]
  },
  {
   "cell_type": "code",
   "execution_count": 14,
   "metadata": {},
   "outputs": [
    {
     "name": "stdout",
     "output_type": "stream",
     "text": [
      "keep up the good work, siva\n",
      "looking forward to see your practice files of today Siva\n",
      "keep up the good work, mujeeb\n",
      "looking forward to see your practice files of today Mujeeb\n",
      "keep up the good work, rishika\n",
      "looking forward to see your practice files of today Rishika\n",
      "keep up the good work, priyanka\n",
      "looking forward to see your practice files of today Priyanka\n",
      "keep up the good work, naveen\n",
      "looking forward to see your practice files of today Naveen\n",
      "keep up the good work, kiran\n",
      "looking forward to see your practice files of today Kiran\n"
     ]
    }
   ],
   "source": [
    "for x in students:\n",
    "    print(f\"keep up the good work, {x}\")\n",
    "    print(f\"looking forward to see your practice files of today {x.title()}\")"
   ]
  },
  {
   "cell_type": "code",
   "execution_count": null,
   "metadata": {},
   "outputs": [],
   "source": [
    "# enhancement of code:-\n"
   ]
  },
  {
   "cell_type": "code",
   "execution_count": 15,
   "metadata": {},
   "outputs": [
    {
     "name": "stdout",
     "output_type": "stream",
     "text": [
      "keep up the good work, siva\n",
      "looking forward to see your practice files of today Siva\n",
      "\n",
      "keep up the good work, mujeeb\n",
      "looking forward to see your practice files of today Mujeeb\n",
      "\n",
      "keep up the good work, rishika\n",
      "looking forward to see your practice files of today Rishika\n",
      "\n",
      "keep up the good work, priyanka\n",
      "looking forward to see your practice files of today Priyanka\n",
      "\n",
      "keep up the good work, naveen\n",
      "looking forward to see your practice files of today Naveen\n",
      "\n",
      "keep up the good work, kiran\n",
      "looking forward to see your practice files of today Kiran\n",
      "\n"
     ]
    }
   ],
   "source": [
    "for x in students:\n",
    "    print(f\"keep up the good work, {x}\")\n",
    "    print(f\"looking forward to see your practice files of today {x.title()}\\n\")"
   ]
  },
  {
   "cell_type": "code",
   "execution_count": 16,
   "metadata": {},
   "outputs": [],
   "source": [
    "# writing out of loop---->  by removing indentation---> using (shift + tab)\n"
   ]
  },
  {
   "cell_type": "code",
   "execution_count": 17,
   "metadata": {},
   "outputs": [
    {
     "name": "stdout",
     "output_type": "stream",
     "text": [
      "keep up the good work, siva\n",
      "looking forward to see your practice files of today Siva\n",
      "\n",
      "keep up the good work, mujeeb\n",
      "looking forward to see your practice files of today Mujeeb\n",
      "\n",
      "keep up the good work, rishika\n",
      "looking forward to see your practice files of today Rishika\n",
      "\n",
      "keep up the good work, priyanka\n",
      "looking forward to see your practice files of today Priyanka\n",
      "\n",
      "keep up the good work, naveen\n",
      "looking forward to see your practice files of today Naveen\n",
      "\n",
      "keep up the good work, kiran\n",
      "looking forward to see your practice files of today Kiran\n",
      "\n",
      "thank you all for showing interest in python\n"
     ]
    }
   ],
   "source": [
    "for x in students:\n",
    "    print(f\"keep up the good work, {x}\")\n",
    "    print(f\"looking forward to see your practice files of today {x.title()}\\n\")\n",
    "print(\"thank you all for showing interest in python\")    \n"
   ]
  },
  {
   "cell_type": "code",
   "execution_count": 18,
   "metadata": {},
   "outputs": [
    {
     "name": "stdout",
     "output_type": "stream",
     "text": [
      "The Zen of Python, by Tim Peters\n",
      "\n",
      "Beautiful is better than ugly.\n",
      "Explicit is better than implicit.\n",
      "Simple is better than complex.\n",
      "Complex is better than complicated.\n",
      "Flat is better than nested.\n",
      "Sparse is better than dense.\n",
      "Readability counts.\n",
      "Special cases aren't special enough to break the rules.\n",
      "Although practicality beats purity.\n",
      "Errors should never pass silently.\n",
      "Unless explicitly silenced.\n",
      "In the face of ambiguity, refuse the temptation to guess.\n",
      "There should be one-- and preferably only one --obvious way to do it.\n",
      "Although that way may not be obvious at first unless you're Dutch.\n",
      "Now is better than never.\n",
      "Although never is often better than *right* now.\n",
      "If the implementation is hard to explain, it's a bad idea.\n",
      "If the implementation is easy to explain, it may be a good idea.\n",
      "Namespaces are one honking great idea -- let's do more of those!\n"
     ]
    }
   ],
   "source": [
    "import this"
   ]
  },
  {
   "cell_type": "code",
   "execution_count": null,
   "metadata": {},
   "outputs": [],
   "source": []
  }
 ],
 "metadata": {
  "kernelspec": {
   "display_name": "Python 3",
   "language": "python",
   "name": "python3"
  },
  "language_info": {
   "codemirror_mode": {
    "name": "ipython",
    "version": 3
   },
   "file_extension": ".py",
   "mimetype": "text/x-python",
   "name": "python",
   "nbconvert_exporter": "python",
   "pygments_lexer": "ipython3",
   "version": "3.8.5"
  }
 },
 "nbformat": 4,
 "nbformat_minor": 4
}
